{
 "nbformat": 4,
 "nbformat_minor": 2,
 "metadata": {
  "language_info": {
   "name": "python",
   "codemirror_mode": {
    "name": "ipython",
    "version": 3
   },
   "version": "3.5.2-final"
  },
  "orig_nbformat": 2,
  "file_extension": ".py",
  "mimetype": "text/x-python",
  "name": "python",
  "npconvert_exporter": "python",
  "pygments_lexer": "ipython3",
  "version": 3,
  "kernelspec": {
   "name": "python35264bitf8c6bb909d074297b47234dde81826f2",
   "display_name": "Python 3.5.2 64-bit"
  }
 },
 "cells": [
  {
   "source": [
    "%matplotlib inline\n",
    "%config InlineBackend.figure_format = 'retina'\n",
    "\n",
    "import numpy as np\n",
    "import torch\n",
    "\n",
    "import helper\n",
    "\n",
    "import matplotlib.pyplot as plt"
   ],
   "cell_type": "code",
   "outputs": [],
   "metadata": {},
   "execution_count": 2
  },
  {
   "cell_type": "markdown",
   "execution_count": null,
   "metadata": {},
   "outputs": [],
   "source": [
    "## load dataset"
   ]
  },
  {
   "source": [
    "from torchvision import datasets, transforms\n",
    "\n",
    "transform = transforms.Compose([transforms.ToTensor(),\n",
    "                                transforms.Normalize((0.5,), (0.5,)),\n",
    "                                ])\n",
    "\n",
    "# Download and load the training data\n",
    "trainset = datasets.MNIST('../data/MNIST_data/', download=True, train=True, transform=transform)\n",
    "trainloader = torch.utils.data.DataLoader(trainset, batch_size=64, shuffle=True)"
   ],
   "cell_type": "code",
   "outputs": [
    {
     "output_type": "stream",
     "name": "stderr",
     "text": "0it [00:00, ?it/s]Downloading http://yann.lecun.com/exdb/mnist/train-images-idx3-ubyte.gz to ../data/MNIST_data/MNIST/raw/train-images-idx3-ubyte.gz\n9920512it [00:03, 2994039.30it/s]\nExtracting ../data/MNIST_data/MNIST/raw/train-images-idx3-ubyte.gz to ../data/MNIST_data/MNIST/raw\n0it [00:00, ?it/s]Downloading http://yann.lecun.com/exdb/mnist/train-labels-idx1-ubyte.gz to ../data/MNIST_data/MNIST/raw/train-labels-idx1-ubyte.gz\n32768it [00:00, 32951.98it/s]\n0it [00:00, ?it/s]Extracting ../data/MNIST_data/MNIST/raw/train-labels-idx1-ubyte.gz to ../data/MNIST_data/MNIST/raw\nDownloading http://yann.lecun.com/exdb/mnist/t10k-images-idx3-ubyte.gz to ../data/MNIST_data/MNIST/raw/t10k-images-idx3-ubyte.gz\n1654784it [00:01, 1376506.90it/s]\n0it [00:00, ?it/s]Extracting ../data/MNIST_data/MNIST/raw/t10k-images-idx3-ubyte.gz to ../data/MNIST_data/MNIST/raw\nDownloading http://yann.lecun.com/exdb/mnist/t10k-labels-idx1-ubyte.gz to ../data/MNIST_data/MNIST/raw/t10k-labels-idx1-ubyte.gz\n8192it [00:00, 10919.22it/s]Extracting ../data/MNIST_data/MNIST/raw/t10k-labels-idx1-ubyte.gz to ../data/MNIST_data/MNIST/raw\nProcessing...\nDone!\n\n"
    }
   ],
   "metadata": {},
   "execution_count": 3
  },
  {
   "source": [
    "dataiter = iter(trainloader)\n",
    "images, labels = dataiter.next()\n",
    "print(type(images))\n",
    "print(images.shape)\n",
    "print(labels.shape)"
   ],
   "cell_type": "code",
   "outputs": [
    {
     "output_type": "stream",
     "name": "stdout",
     "text": "<class 'torch.Tensor'>\ntorch.Size([64, 1, 28, 28])\ntorch.Size([64])\n"
    }
   ],
   "metadata": {},
   "execution_count": 5
  },
  {
   "source": [
    "plt.imshow(images[1].numpy().squeeze(), cmap='Greys_r')"
   ],
   "cell_type": "code",
   "outputs": [
    {
     "output_type": "execute_result",
     "data": {
      "text/plain": "<matplotlib.image.AxesImage at 0x7f7c085aaf98>"
     },
     "metadata": {},
     "execution_count": 6
    },
    {
     "output_type": "display_data",
     "data": {
      "image/png": "[encoded data removed]",
      "text/plain": "<Figure size 432x288 with 1 Axes>"
     },
     "metadata": {
      "image/png": {
       "height": 250,
       "width": 253
      },
      "needs_background": "light"
     }
    }
   ],
   "metadata": {},
   "execution_count": 6
  },
  {
   "source": [
    "def activation(x):\n",
    "    return 1 / (1+torch.exp(-x))"
   ],
   "cell_type": "code",
   "outputs": [],
   "metadata": {},
   "execution_count": 24
  },
  {
   "cell_type": "markdown",
   "execution_count": null,
   "metadata": {},
   "outputs": [],
   "source": [
    "## Define forward(except nn module)"
   ]
  },
  {
   "source": [
    "test = images[1]\n",
    "print(len(images))\n",
    "print(test.shape)\n",
    "torch.flatten(test).shape\n",
    "\n",
    "# input_img = torch.zeros(64, 784)\n",
    "\n",
    "# for img in range(len(images)):\n",
    "#     input_img[img] = torch.flatten(images[img])\n",
    "# print(input_img.shape[1])\n",
    "\n",
    "# flatten\n",
    "input_img = images.view(images.shape[0], -1)\n",
    "\n",
    "input_unit = input_img.shape[1]\n",
    "hidden_unit = 256\n",
    "output_unit = 10\n",
    "\n",
    "W1 = torch.rand(input_unit, hidden_unit)\n",
    "W2 = torch.rand(hidden_unit, output_unit)\n",
    "\n",
    "B1 = torch.rand(hidden_unit)\n",
    "B2 = torch.rand(output_unit)"
   ],
   "cell_type": "code",
   "outputs": [
    {
     "output_type": "stream",
     "name": "stdout",
     "text": "64\ntorch.Size([1, 28, 28])\n"
    }
   ],
   "metadata": {},
   "execution_count": 32
  },
  {
   "source": [
    "res_ith = activation(torch.mm(input_img, W1) + B1)\n",
    "res_hto = torch.mm(res_ith, W2) + B2"
   ],
   "cell_type": "code",
   "outputs": [],
   "metadata": {},
   "execution_count": 33
  },
  {
   "source": [
    "# res_hto"
   ],
   "cell_type": "code",
   "outputs": [],
   "metadata": {},
   "execution_count": 35
  },
  {
   "source": [
    "(torch.exp(res_hto).view(res_hto.shape[1], res_hto.shape[0]) / sum(torch.exp(res_hto).view(res_hto.shape[1], res_hto.shape[0]))).T"
   ],
   "cell_type": "code",
   "outputs": [
    {
     "output_type": "execute_result",
     "data": {
      "text/plain": "tensor([[0.0819, 0.1135, 0.1025, 0.1317, 0.0704, 0.0819, 0.1135, 0.1025, 0.1317,\n         0.0704],\n        [0.1144, 0.0868, 0.0542, 0.1059, 0.1388, 0.1144, 0.0868, 0.0542, 0.1059,\n         0.1388],\n        [0.1317, 0.0704, 0.0819, 0.1135, 0.1025, 0.1317, 0.0704, 0.0819, 0.1135,\n         0.1025],\n        [0.1059, 0.1388, 0.1144, 0.0868, 0.0542, 0.1059, 0.1388, 0.1144, 0.0868,\n         0.0542],\n        [0.1135, 0.1025, 0.1317, 0.0704, 0.0819, 0.1135, 0.1025, 0.1317, 0.0704,\n         0.0819],\n        [0.0868, 0.0542, 0.1059, 0.1388, 0.1144, 0.0868, 0.0542, 0.1059, 0.1388,\n         0.1144],\n        [0.0704, 0.0819, 0.1135, 0.1025, 0.1317, 0.0704, 0.0819, 0.1135, 0.1025,\n         0.1317],\n        [0.1388, 0.1144, 0.0868, 0.0542, 0.1059, 0.1388, 0.1144, 0.0868, 0.0542,\n         0.1059],\n        [0.1025, 0.1317, 0.0704, 0.0819, 0.1135, 0.1025, 0.1317, 0.0704, 0.0819,\n         0.1135],\n        [0.0542, 0.1059, 0.1388, 0.1144, 0.0868, 0.0542, 0.1059, 0.1388, 0.1144,\n         0.0868],\n        [0.0819, 0.1135, 0.1025, 0.1317, 0.0704, 0.0819, 0.1135, 0.1025, 0.1317,\n         0.0704],\n        [0.1144, 0.0868, 0.0542, 0.1059, 0.1388, 0.1144, 0.0868, 0.0542, 0.1059,\n         0.1388],\n        [0.1317, 0.0704, 0.0819, 0.1135, 0.1025, 0.1317, 0.0704, 0.0819, 0.1135,\n         0.1025],\n        [0.1059, 0.1388, 0.1144, 0.0868, 0.0542, 0.1059, 0.1388, 0.1144, 0.0868,\n         0.0542],\n        [0.1135, 0.1025, 0.1317, 0.0704, 0.0819, 0.1135, 0.1025, 0.1317, 0.0704,\n         0.0819],\n        [0.0868, 0.0542, 0.1059, 0.1388, 0.1144, 0.0868, 0.0542, 0.1059, 0.1388,\n         0.1144],\n        [0.0704, 0.0819, 0.1135, 0.1025, 0.1317, 0.0704, 0.0819, 0.1135, 0.1025,\n         0.1317],\n        [0.1388, 0.1144, 0.0868, 0.0542, 0.1059, 0.1388, 0.1144, 0.0868, 0.0542,\n         0.1059],\n        [0.1025, 0.1317, 0.0704, 0.0819, 0.1135, 0.1025, 0.1317, 0.0704, 0.0819,\n         0.1135],\n        [0.0542, 0.1059, 0.1388, 0.1144, 0.0868, 0.0542, 0.1059, 0.1388, 0.1144,\n         0.0868],\n        [0.0819, 0.1135, 0.1025, 0.1317, 0.0704, 0.0819, 0.1135, 0.1025, 0.1317,\n         0.0704],\n        [0.1144, 0.0868, 0.0542, 0.1059, 0.1388, 0.1144, 0.0868, 0.0542, 0.1059,\n         0.1388],\n        [0.1317, 0.0704, 0.0819, 0.1135, 0.1025, 0.1317, 0.0704, 0.0819, 0.1135,\n         0.1025],\n        [0.1059, 0.1388, 0.1144, 0.0868, 0.0542, 0.1059, 0.1388, 0.1144, 0.0868,\n         0.0542],\n        [0.1135, 0.1025, 0.1317, 0.0704, 0.0819, 0.1135, 0.1025, 0.1317, 0.0704,\n         0.0819],\n        [0.0868, 0.0542, 0.1059, 0.1388, 0.1144, 0.0868, 0.0542, 0.1059, 0.1388,\n         0.1144],\n        [0.0704, 0.0819, 0.1135, 0.1025, 0.1317, 0.0704, 0.0819, 0.1135, 0.1025,\n         0.1317],\n        [0.1388, 0.1144, 0.0868, 0.0542, 0.1059, 0.1388, 0.1144, 0.0868, 0.0542,\n         0.1059],\n        [0.1025, 0.1317, 0.0704, 0.0819, 0.1135, 0.1025, 0.1317, 0.0704, 0.0819,\n         0.1135],\n        [0.0542, 0.1059, 0.1388, 0.1144, 0.0868, 0.0542, 0.1059, 0.1388, 0.1144,\n         0.0868],\n        [0.0819, 0.1135, 0.1025, 0.1317, 0.0704, 0.0819, 0.1135, 0.1025, 0.1317,\n         0.0704],\n        [0.1144, 0.0868, 0.0542, 0.1059, 0.1388, 0.1144, 0.0868, 0.0542, 0.1059,\n         0.1388],\n        [0.1317, 0.0704, 0.0819, 0.1135, 0.1025, 0.1317, 0.0704, 0.0819, 0.1135,\n         0.1025],\n        [0.1059, 0.1388, 0.1144, 0.0868, 0.0542, 0.1059, 0.1388, 0.1144, 0.0868,\n         0.0542],\n        [0.1135, 0.1025, 0.1317, 0.0704, 0.0819, 0.1135, 0.1025, 0.1317, 0.0704,\n         0.0819],\n        [0.0868, 0.0542, 0.1059, 0.1388, 0.1144, 0.0868, 0.0542, 0.1059, 0.1388,\n         0.1144],\n        [0.0704, 0.0819, 0.1135, 0.1025, 0.1317, 0.0704, 0.0819, 0.1135, 0.1025,\n         0.1317],\n        [0.1388, 0.1144, 0.0868, 0.0542, 0.1059, 0.1388, 0.1144, 0.0868, 0.0542,\n         0.1059],\n        [0.1025, 0.1317, 0.0704, 0.0819, 0.1135, 0.1025, 0.1317, 0.0704, 0.0819,\n         0.1135],\n        [0.0542, 0.1059, 0.1388, 0.1144, 0.0868, 0.0542, 0.1059, 0.1388, 0.1144,\n         0.0868],\n        [0.0819, 0.1135, 0.1025, 0.1317, 0.0704, 0.0819, 0.1135, 0.1025, 0.1317,\n         0.0704],\n        [0.1144, 0.0868, 0.0542, 0.1059, 0.1388, 0.1144, 0.0868, 0.0542, 0.1059,\n         0.1388],\n        [0.1317, 0.0704, 0.0819, 0.1135, 0.1025, 0.1317, 0.0704, 0.0819, 0.1135,\n         0.1025],\n        [0.1059, 0.1388, 0.1144, 0.0868, 0.0542, 0.1059, 0.1388, 0.1144, 0.0868,\n         0.0542],\n        [0.1135, 0.1025, 0.1317, 0.0704, 0.0819, 0.1135, 0.1025, 0.1317, 0.0704,\n         0.0819],\n        [0.0868, 0.0542, 0.1059, 0.1388, 0.1144, 0.0868, 0.0542, 0.1059, 0.1388,\n         0.1144],\n        [0.0704, 0.0819, 0.1135, 0.1025, 0.1317, 0.0704, 0.0819, 0.1135, 0.1025,\n         0.1317],\n        [0.1388, 0.1144, 0.0868, 0.0542, 0.1059, 0.1388, 0.1144, 0.0868, 0.0542,\n         0.1059],\n        [0.1025, 0.1317, 0.0704, 0.0819, 0.1135, 0.1025, 0.1317, 0.0704, 0.0819,\n         0.1135],\n        [0.0542, 0.1059, 0.1388, 0.1144, 0.0868, 0.0542, 0.1059, 0.1388, 0.1144,\n         0.0868],\n        [0.0819, 0.1135, 0.1025, 0.1317, 0.0704, 0.0819, 0.1135, 0.1025, 0.1317,\n         0.0704],\n        [0.1144, 0.0868, 0.0542, 0.1059, 0.1388, 0.1144, 0.0868, 0.0542, 0.1059,\n         0.1388],\n        [0.1317, 0.0704, 0.0819, 0.1135, 0.1025, 0.1317, 0.0704, 0.0819, 0.1135,\n         0.1025],\n        [0.1059, 0.1388, 0.1144, 0.0868, 0.0542, 0.1059, 0.1388, 0.1144, 0.0868,\n         0.0542],\n        [0.1135, 0.1025, 0.1317, 0.0704, 0.0819, 0.1135, 0.1025, 0.1317, 0.0704,\n         0.0819],\n        [0.0868, 0.0542, 0.1059, 0.1388, 0.1144, 0.0868, 0.0542, 0.1059, 0.1388,\n         0.1144],\n        [0.0704, 0.0819, 0.1135, 0.1025, 0.1317, 0.0704, 0.0819, 0.1135, 0.1025,\n         0.1317],\n        [0.1388, 0.1144, 0.0868, 0.0542, 0.1059, 0.1388, 0.1144, 0.0868, 0.0542,\n         0.1059],\n        [0.1025, 0.1317, 0.0704, 0.0819, 0.1135, 0.1025, 0.1317, 0.0704, 0.0819,\n         0.1135],\n        [0.0542, 0.1059, 0.1388, 0.1144, 0.0868, 0.0542, 0.1059, 0.1388, 0.1144,\n         0.0868],\n        [0.0819, 0.1135, 0.1025, 0.1317, 0.0704, 0.0819, 0.1135, 0.1025, 0.1317,\n         0.0704],\n        [0.1144, 0.0868, 0.0542, 0.1059, 0.1388, 0.1144, 0.0868, 0.0542, 0.1059,\n         0.1388],\n        [0.1317, 0.0704, 0.0819, 0.1135, 0.1025, 0.1317, 0.0704, 0.0819, 0.1135,\n         0.1025],\n        [0.1059, 0.1388, 0.1144, 0.0868, 0.0542, 0.1059, 0.1388, 0.1144, 0.0868,\n         0.0542]])"
     },
     "metadata": {},
     "execution_count": 61
    }
   ],
   "metadata": {},
   "execution_count": 61
  },
  {
   "source": [
    "sum(torch.exp(res_hto))"
   ],
   "cell_type": "code",
   "outputs": [
    {
     "output_type": "execute_result",
     "data": {
      "text/plain": "tensor([ 96.4839, 136.1699, 155.0400, 126.0674, 133.5946, 103.2539,  82.8882,\n        165.1745, 120.7021,  64.4550])"
     },
     "metadata": {},
     "execution_count": 53
    }
   ],
   "metadata": {},
   "execution_count": 53
  },
  {
   "source": [
    "def softmax(x):\n",
    "    # x -> array of output units\n",
    "    return (torch.exp(x).T / sum(torch.exp(x).T)).T\n",
    "    # another return torch.exp(x) / sum(torch.exp(x), dim=1).view(-1, 1)"
   ],
   "cell_type": "code",
   "outputs": [],
   "metadata": {},
   "execution_count": 62
  },
  {
   "source": [
    "res_hto = softmax(torch.mm(res_ith, W2) + B2)\n",
    "print(res_hto.shape)\n",
    "print(res_hto.sum(dim=1))"
   ],
   "cell_type": "code",
   "outputs": [
    {
     "output_type": "stream",
     "name": "stdout",
     "text": "torch.Size([64, 10])\ntensor([1., 1., 1., 1., 1., 1., 1., 1., 1., 1., 1., 1., 1., 1., 1., 1., 1., 1.,\n        1., 1., 1., 1., 1., 1., 1., 1., 1., 1., 1., 1., 1., 1., 1., 1., 1., 1.,\n        1., 1., 1., 1., 1., 1., 1., 1., 1., 1., 1., 1., 1., 1., 1., 1., 1., 1.,\n        1., 1., 1., 1., 1., 1., 1., 1., 1., 1.])\n"
    }
   ],
   "metadata": {},
   "execution_count": 65
  },
  {
   "cell_type": "markdown",
   "execution_count": null,
   "metadata": {},
   "outputs": [],
   "source": [
    "## Define forward using nn module"
   ]
  },
  {
   "source": [
    "from torch import nn"
   ],
   "cell_type": "code",
   "outputs": [],
   "metadata": {},
   "execution_count": 66
  },
  {
   "source": [
    "# case1\n",
    "class Network_origin(nn.Module):\n",
    "    def __init__(self):\n",
    "        super().__init__()\n",
    "        \n",
    "        # Inputs to hidden layer linear transformation\n",
    "        self.hidden = nn.Linear(784, 256)\n",
    "        # Output layer, 10 units - one for each digit\n",
    "        self.output = nn.Linear(256, 10)\n",
    "        \n",
    "        # Define sigmoid activation and softmax output \n",
    "        self.sigmoid = nn.Sigmoid()\n",
    "        self.softmax = nn.Softmax(dim=1)\n",
    "        \n",
    "    def forward(self, x):\n",
    "        # Pass the input tensor through each of our operations\n",
    "        x = self.hidden(x)\n",
    "        x = self.sigmoid(x)\n",
    "        x = self.output(x)\n",
    "        x = self.softmax(x)\n",
    "        \n",
    "        return x"
   ],
   "cell_type": "code",
   "outputs": [],
   "metadata": {},
   "execution_count": 67
  },
  {
   "cell_type": "code",
   "execution_count": null,
   "metadata": {},
   "outputs": [],
   "source": [
    "import torch.nn.functional as F\n",
    "\n",
    "class Network_origin2(nn.Module):\n",
    "    def __init__(self):\n",
    "        super().__init__()\n",
    "        # Inputs to hidden layer linear transformation\n",
    "        self.hidden = nn.Linear(784, 256)\n",
    "        # Output layer, 10 units - one for each digit\n",
    "        self.output = nn.Linear(256, 10)\n",
    "        \n",
    "    def forward(self, x):\n",
    "        # Hidden layer with sigmoid activation\n",
    "        x = F.sigmoid(self.hidden(x))\n",
    "        # Output layer with softmax activation\n",
    "        x = F.softmax(self.output(x), dim=1)\n",
    "        \n",
    "        return x"
   ]
  },
  {
   "source": [
    "# add 1 more hidden & changed activation ftn to Relu\n",
    "class Network(nn.Module):\n",
    "    def __init__(self):\n",
    "        super().__init__()\n",
    "        \n",
    "        # Inputs to hidden layer linear transformation\n",
    "        self.hidden = nn.Linear(784, 128)\n",
    "        # Inputs to hidden layer linear transformation\n",
    "        self.hidden2 = nn.Linear(128, 64)\n",
    "        # Output layer, 10 units - one for each digit\n",
    "        self.output = nn.Linear(64, 10)\n",
    "        \n",
    "        # Define sigmoid activation and softmax output \n",
    "        self.sigmoid = nn.Sigmoid()\n",
    "        self.relu = nn.ReLU()\n",
    "        self.softmax = nn.Softmax(dim=1)\n",
    "        \n",
    "    def forward(self, x):\n",
    "        # Pass the input tensor through each of our operations\n",
    "        x = self.hidden(x)\n",
    "        x = self.relu(x)\n",
    "        x = self.hidden2(x)\n",
    "        x = self.relu(x)\n",
    "        x = self.output(x)\n",
    "        x = self.softmax(x)\n",
    "        \n",
    "        return x"
   ],
   "cell_type": "code",
   "outputs": [],
   "metadata": {},
   "execution_count": 70
  },
  {
   "source": [
    "# Create the network and look at it's text representation\n",
    "model = Network()\n",
    "model"
   ],
   "cell_type": "code",
   "outputs": [
    {
     "output_type": "execute_result",
     "data": {
      "text/plain": "Network(\n  (hidden): Linear(in_features=784, out_features=128, bias=True)\n  (hidden2): Linear(in_features=128, out_features=64, bias=True)\n  (output): Linear(in_features=64, out_features=10, bias=True)\n  (sigmoid): Sigmoid()\n  (relu): ReLU()\n  (softmax): Softmax(dim=1)\n)"
     },
     "metadata": {},
     "execution_count": 71
    }
   ],
   "metadata": {},
   "execution_count": 71
  },
  {
   "cell_type": "markdown",
   "execution_count": null,
   "metadata": {},
   "outputs": [],
   "source": [
    "### Initializing weights and biases\n",
    "\n",
    "The weights and such are automatically initialized for you, but it's possible to customize how they are initialized. The weights and biases are tensors attached to the layer you defined, you can get them with `model.fc1.weight` for instance."
   ]
  },
  {
   "source": [
    "print(model.hidden.weight)\n",
    "print(model.hidden.bias)\n",
    "\n",
    "# For custom initialization, we want to modify these tensors in place. These are actually autograd Variables, so we need to get back the actual tensors with model.fc1.weight.data. Once we have the tensors, we can fill them with zeros (for biases) or random normal values.\n",
    "\n",
    "# Set biases to all zeros\n",
    "model.hidden.bias.data.fill_(0)"
   ],
   "cell_type": "code",
   "outputs": [
    {
     "output_type": "stream",
     "name": "stdout",
     "text": "Parameter containing:\ntensor([[ 0.0311, -0.0215,  0.0315,  ...,  0.0076,  0.0074,  0.0153],\n        [-0.0225,  0.0059, -0.0143,  ..., -0.0115, -0.0021,  0.0110],\n        [ 0.0250, -0.0225,  0.0254,  ...,  0.0242,  0.0191, -0.0198],\n        ...,\n        [-0.0334, -0.0299,  0.0113,  ..., -0.0239,  0.0354, -0.0165],\n        [ 0.0037,  0.0081,  0.0346,  ..., -0.0030, -0.0159,  0.0245],\n        [ 0.0132,  0.0026, -0.0333,  ..., -0.0192,  0.0331,  0.0016]],\n       requires_grad=True)\nParameter containing:\ntensor([ 0.0313, -0.0304, -0.0175,  0.0242, -0.0186, -0.0322,  0.0197, -0.0050,\n         0.0096,  0.0098,  0.0252,  0.0175,  0.0211, -0.0318,  0.0215,  0.0119,\n        -0.0266,  0.0240, -0.0023, -0.0049, -0.0350,  0.0296, -0.0160, -0.0330,\n         0.0230,  0.0256, -0.0058,  0.0159,  0.0249,  0.0182, -0.0098,  0.0274,\n         0.0228, -0.0310,  0.0343,  0.0160, -0.0249,  0.0024, -0.0087,  0.0310,\n         0.0230,  0.0219,  0.0134,  0.0268,  0.0315, -0.0047,  0.0263, -0.0211,\n         0.0225,  0.0295, -0.0064,  0.0027, -0.0117,  0.0244, -0.0321,  0.0168,\n        -0.0326, -0.0234,  0.0039, -0.0176,  0.0286, -0.0166,  0.0016,  0.0319,\n         0.0099,  0.0296,  0.0153, -0.0355,  0.0225, -0.0034, -0.0119,  0.0286,\n        -0.0289, -0.0291,  0.0206, -0.0216,  0.0257,  0.0089, -0.0021, -0.0272,\n         0.0299,  0.0136,  0.0142, -0.0298,  0.0200,  0.0313, -0.0038,  0.0336,\n         0.0271,  0.0285, -0.0322,  0.0014,  0.0294, -0.0239,  0.0246,  0.0182,\n         0.0093, -0.0332,  0.0064, -0.0281, -0.0128, -0.0291, -0.0032, -0.0298,\n         0.0282,  0.0093, -0.0134, -0.0172, -0.0134, -0.0147,  0.0149, -0.0175,\n         0.0005, -0.0011,  0.0070, -0.0230,  0.0258, -0.0290, -0.0064,  0.0029,\n        -0.0341, -0.0332, -0.0171, -0.0164, -0.0140, -0.0275, -0.0308,  0.0149],\n       requires_grad=True)\n"
    },
    {
     "output_type": "execute_result",
     "data": {
      "text/plain": "tensor([0., 0., 0., 0., 0., 0., 0., 0., 0., 0., 0., 0., 0., 0., 0., 0., 0., 0., 0., 0., 0., 0., 0., 0.,\n        0., 0., 0., 0., 0., 0., 0., 0., 0., 0., 0., 0., 0., 0., 0., 0., 0., 0., 0., 0., 0., 0., 0., 0.,\n        0., 0., 0., 0., 0., 0., 0., 0., 0., 0., 0., 0., 0., 0., 0., 0., 0., 0., 0., 0., 0., 0., 0., 0.,\n        0., 0., 0., 0., 0., 0., 0., 0., 0., 0., 0., 0., 0., 0., 0., 0., 0., 0., 0., 0., 0., 0., 0., 0.,\n        0., 0., 0., 0., 0., 0., 0., 0., 0., 0., 0., 0., 0., 0., 0., 0., 0., 0., 0., 0., 0., 0., 0., 0.,\n        0., 0., 0., 0., 0., 0., 0., 0.])"
     },
     "metadata": {},
     "execution_count": 74
    }
   ],
   "metadata": {},
   "execution_count": 74
  },
  {
   "source": [
    "# sample from random normal with standard dev = 0.01\n",
    "model.hidden.weight.data.normal_(std=0.01)"
   ],
   "cell_type": "code",
   "outputs": [
    {
     "output_type": "execute_result",
     "data": {
      "text/plain": "tensor([[ 0.0030, -0.0185, -0.0049,  ...,  0.0063,  0.0005, -0.0149],\n        [ 0.0062, -0.0048, -0.0202,  ...,  0.0036,  0.0065,  0.0179],\n        [-0.0018,  0.0032, -0.0126,  ..., -0.0090, -0.0075, -0.0081],\n        ...,\n        [-0.0092,  0.0094, -0.0084,  ...,  0.0140,  0.0125, -0.0088],\n        [ 0.0014, -0.0033,  0.0030,  ..., -0.0082, -0.0201, -0.0150],\n        [-0.0118,  0.0081,  0.0056,  ..., -0.0026,  0.0070,  0.0071]])"
     },
     "metadata": {},
     "execution_count": 75
    }
   ],
   "metadata": {},
   "execution_count": 75
  },
  {
   "cell_type": "markdown",
   "execution_count": null,
   "metadata": {},
   "outputs": [],
   "source": [
    "### Forward pass\n",
    "\n",
    "Now that we have a network, let's see what happens when we pass in an image."
   ]
  },
  {
   "source": [
    "# Grab some data \n",
    "dataiter = iter(trainloader)\n",
    "images, labels = dataiter.next()\n",
    "\n",
    "# Resize images into a 1D vector, new shape is (batch size, color channels, image pixels) \n",
    "images.resize_(64, 1, 784)\n",
    "# or images.resize_(images.shape[0], 1, 784) to automatically get batch size\n",
    "\n",
    "# Forward pass through the network\n",
    "img_idx = 0\n",
    "ps = model.forward(images[img_idx,:])\n",
    "\n",
    "img = images[img_idx]\n",
    "# helper.view_classify(img.view(1, 28, 28), ps)"
   ],
   "cell_type": "code",
   "outputs": [],
   "metadata": {},
   "execution_count": 77
  },
  {
   "cell_type": "markdown",
   "execution_count": null,
   "metadata": {},
   "outputs": [],
   "source": [
    "As you can see above, our network has basically no idea what this digit is. It's because we haven't trained it yet, all the weights are random!\n",
    "\n",
    "### Using `nn.Sequential`\n",
    "\n",
    "PyTorch provides a convenient way to build networks like this where a tensor is passed sequentially through operations, `nn.Sequential` ([documentation](https://pytorch.org/docs/master/nn.html#torch.nn.Sequential)). Using this to build the equivalent network:"
   ]
  },
  {
   "source": [
    "# Hyperparameters for our network\n",
    "input_size = 784\n",
    "hidden_sizes = [128, 64]\n",
    "output_size = 10\n",
    "\n",
    "# Build a feed-forward network\n",
    "model = nn.Sequential(nn.Linear(input_size, hidden_sizes[0]),\n",
    "                      nn.ReLU(),\n",
    "                      nn.Linear(hidden_sizes[0], hidden_sizes[1]),\n",
    "                      nn.ReLU(),\n",
    "                      nn.Linear(hidden_sizes[1], output_size),\n",
    "                      nn.Softmax(dim=1))\n",
    "print(model)\n",
    "\n",
    "# Forward pass through the network and display output\n",
    "images, labels = next(iter(trainloader))\n",
    "images.resize_(images.shape[0], 1, 784)\n",
    "ps = model.forward(images[0,:])\n",
    "# helper.view_classify(images[0].view(1, 28, 28), ps)"
   ],
   "cell_type": "code",
   "outputs": [
    {
     "output_type": "stream",
     "name": "stdout",
     "text": "Sequential(\n  (0): Linear(in_features=784, out_features=128, bias=True)\n  (1): ReLU()\n  (2): Linear(in_features=128, out_features=64, bias=True)\n  (3): ReLU()\n  (4): Linear(in_features=64, out_features=10, bias=True)\n  (5): Softmax(dim=1)\n)\n"
    }
   ],
   "metadata": {},
   "execution_count": 80
  },
  {
   "cell_type": "markdown",
   "execution_count": null,
   "metadata": {},
   "outputs": [],
   "source": [
    "Here our model is the same as before: 784 input units, a hidden layer with 128 units, ReLU activation, 64 unit hidden layer, another ReLU, then the output layer with 10 units, and the softmax output.\n",
    "\n",
    "The operations are available by passing in the appropriate index. For example, if you want to get first Linear operation and look at the weights, you'd use `model[0]`."
   ]
  },
  {
   "source": [
    "print(model[0])\n",
    "model[0].weight"
   ],
   "cell_type": "code",
   "outputs": [
    {
     "output_type": "stream",
     "name": "stdout",
     "text": "Linear(in_features=784, out_features=128, bias=True)\n"
    },
    {
     "output_type": "execute_result",
     "data": {
      "text/plain": "Parameter containing:\ntensor([[-0.0195,  0.0356,  0.0324,  ..., -0.0051,  0.0312,  0.0316],\n        [ 0.0256,  0.0122,  0.0030,  ...,  0.0101,  0.0196, -0.0284],\n        [ 0.0290, -0.0231, -0.0084,  ..., -0.0102, -0.0224,  0.0085],\n        ...,\n        [-0.0048,  0.0228,  0.0044,  ...,  0.0181, -0.0215, -0.0186],\n        [-0.0071,  0.0008, -0.0214,  ...,  0.0123,  0.0141,  0.0179],\n        [-0.0129, -0.0093, -0.0203,  ..., -0.0138,  0.0106,  0.0017]],\n       requires_grad=True)"
     },
     "metadata": {},
     "execution_count": 81
    }
   ],
   "metadata": {},
   "execution_count": 81
  },
  {
   "cell_type": "markdown",
   "execution_count": null,
   "metadata": {},
   "outputs": [],
   "source": [
    "You can also pass in an `OrderedDict` to name the individual layers and operations, instead of using incremental integers. Note that dictionary keys must be unique, so _each operation must have a different name_."
   ]
  },
  {
   "source": [
    "from collections import OrderedDict\n",
    "model = nn.Sequential(OrderedDict([\n",
    "                      ('fc1', nn.Linear(input_size, hidden_sizes[0])),\n",
    "                      ('relu1', nn.ReLU()),\n",
    "                      ('fc2', nn.Linear(hidden_sizes[0], hidden_sizes[1])),\n",
    "                      ('relu2', nn.ReLU()),\n",
    "                      ('output', nn.Linear(hidden_sizes[1], output_size)),\n",
    "                      ('softmax', nn.Softmax(dim=1))]))\n",
    "model"
   ],
   "cell_type": "code",
   "outputs": [
    {
     "output_type": "execute_result",
     "data": {
      "text/plain": "Sequential(\n  (fc1): Linear(in_features=784, out_features=128, bias=True)\n  (relu1): ReLU()\n  (fc2): Linear(in_features=128, out_features=64, bias=True)\n  (relu2): ReLU()\n  (output): Linear(in_features=64, out_features=10, bias=True)\n  (softmax): Softmax(dim=1)\n)"
     },
     "metadata": {},
     "execution_count": 82
    }
   ],
   "metadata": {},
   "execution_count": 82
  },
  {
   "source": [
    "# Now you can access layers either by integer or the name\n",
    "print(model[0])\n",
    "print(model.fc1)"
   ],
   "cell_type": "code",
   "outputs": [
    {
     "output_type": "stream",
     "name": "stdout",
     "text": "Linear(in_features=784, out_features=128, bias=True)\nLinear(in_features=784, out_features=128, bias=True)\n"
    }
   ],
   "metadata": {},
   "execution_count": 83
  },
  {
   "cell_type": "code",
   "execution_count": null,
   "metadata": {},
   "outputs": [],
   "source": []
  }
 ]
}